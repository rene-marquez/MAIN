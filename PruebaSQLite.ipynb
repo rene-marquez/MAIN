{
 "cells": [
  {
   "cell_type": "code",
   "execution_count": 2,
   "metadata": {},
   "outputs": [
    {
     "name": "stdout",
     "output_type": "stream",
     "text": [
      "La tabla articulos ya existe\n"
     ]
    }
   ],
   "source": [
    "import sqlite3\n",
    "conexion=sqlite3.connect(\"bd1.db\")\n",
    "try:\n",
    "    conexion.execute(\"\"\"create table articulos (\n",
    "                              codigo integer primary key autoincrement,\n",
    "                              descripcion text,\n",
    "                              precio real\n",
    "                        )\"\"\")\n",
    "    print(\"se creo la tabla articulos\")                        \n",
    "except sqlite3.OperationalError:\n",
    "    print(\"La tabla articulos ya existe\")                    \n",
    "conexion.close()\n"
   ]
  },
  {
   "cell_type": "code",
   "execution_count": 3,
   "metadata": {},
   "outputs": [],
   "source": [
    "conexion=sqlite3.connect(\"bd1.db\")\n",
    "conexion.execute(\"insert into articulos(descripcion,precio) values (?,?)\", (\"naranjas\", 23.50))\n",
    "conexion.execute(\"insert into articulos(descripcion,precio) values (?,?)\", (\"peras\", 34))\n",
    "conexion.execute(\"insert into articulos(descripcion,precio) values (?,?)\", (\"bananas\", 25))\n",
    "conexion.commit()\n",
    "conexion.close()"
   ]
  },
  {
   "cell_type": "code",
   "execution_count": 5,
   "metadata": {},
   "outputs": [
    {
     "name": "stdout",
     "output_type": "stream",
     "text": [
      "(1, 'naranjas', 23.5)\n",
      "(2, 'peras', 34.0)\n",
      "(3, 'bananas', 25.0)\n"
     ]
    }
   ],
   "source": [
    "conexion=sqlite3.connect(\"bd1.db\")\n",
    "cursor=conexion.execute(\"select codigo,descripcion,precio from articulos\")\n",
    "for fila in cursor:\n",
    "    print(fila)\n",
    "conexion.close()"
   ]
  },
  {
   "cell_type": "code",
   "execution_count": 6,
   "metadata": {},
   "outputs": [
    {
     "name": "stdout",
     "output_type": "stream",
     "text": [
      "('peras', 34.0)\n"
     ]
    }
   ],
   "source": [
    "conexion=sqlite3.connect(\"bd1.db\")\n",
    "codigo=int(input(\"Ingrese el código de un artículo:\"))\n",
    "cursor=conexion.execute(\"select descripcion,precio from articulos where codigo=?\", (codigo, ))\n",
    "fila=cursor.fetchone()\n",
    "if fila!=None:\n",
    "    print(fila)\n",
    "else:\n",
    "    print(\"No existe un artículo con dicho código.\")\n",
    "conexion.close()"
   ]
  },
  {
   "cell_type": "code",
   "execution_count": 6,
   "metadata": {},
   "outputs": [
    {
     "name": "stdout",
     "output_type": "stream",
     "text": [
      "('naranjas', 23.5)\n"
     ]
    }
   ],
   "source": [
    "conexion=sqlite3.connect(\"bd1.db\")\n",
    "codigo=int(input(\"Ingrese el código de un artículo:\"))\n",
    "cursor=conexion.execute(\"select descripcion,precio from articulos where codigo=?\", (codigo, ))\n",
    "fila=cursor.fetchone()\n",
    "if fila!=None:\n",
    "    print(fila)\n",
    "else:\n",
    "    print(\"No existe un artículo con dicho código.\")\n",
    "conexion.close()"
   ]
  }
 ],
 "metadata": {
  "kernelspec": {
   "display_name": "venv",
   "language": "python",
   "name": "python3"
  },
  "language_info": {
   "codemirror_mode": {
    "name": "ipython",
    "version": 3
   },
   "file_extension": ".py",
   "mimetype": "text/x-python",
   "name": "python",
   "nbconvert_exporter": "python",
   "pygments_lexer": "ipython3",
   "version": "3.11.3"
  },
  "orig_nbformat": 4
 },
 "nbformat": 4,
 "nbformat_minor": 2
}
