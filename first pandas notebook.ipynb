{
 "cells": [
  {
   "cell_type": "code",
   "execution_count": 1,
   "metadata": {},
   "outputs": [
    {
     "data": {
      "text/plain": [
       "'2.0.0'"
      ]
     },
     "execution_count": 1,
     "metadata": {},
     "output_type": "execute_result"
    }
   ],
   "source": [
    "import pandas\n",
    "pandas.__version__"
   ]
  },
  {
   "cell_type": "code",
   "execution_count": 2,
   "metadata": {},
   "outputs": [
    {
     "data": {
      "text/html": [
       "<div>\n",
       "<style scoped>\n",
       "    .dataframe tbody tr th:only-of-type {\n",
       "        vertical-align: middle;\n",
       "    }\n",
       "\n",
       "    .dataframe tbody tr th {\n",
       "        vertical-align: top;\n",
       "    }\n",
       "\n",
       "    .dataframe thead th {\n",
       "        text-align: right;\n",
       "    }\n",
       "</style>\n",
       "<table border=\"1\" class=\"dataframe\">\n",
       "  <thead>\n",
       "    <tr style=\"text-align: right;\">\n",
       "      <th></th>\n",
       "      <th>Name</th>\n",
       "      <th>Age</th>\n",
       "      <th>Sex</th>\n",
       "    </tr>\n",
       "  </thead>\n",
       "  <tbody>\n",
       "    <tr>\n",
       "      <th>0</th>\n",
       "      <td>Braund, Mr. Owen Harris</td>\n",
       "      <td>22</td>\n",
       "      <td>male</td>\n",
       "    </tr>\n",
       "    <tr>\n",
       "      <th>1</th>\n",
       "      <td>Allen, Mr. William Henry</td>\n",
       "      <td>35</td>\n",
       "      <td>male</td>\n",
       "    </tr>\n",
       "    <tr>\n",
       "      <th>2</th>\n",
       "      <td>Bonnell, Miss. Elizabeth</td>\n",
       "      <td>58</td>\n",
       "      <td>female</td>\n",
       "    </tr>\n",
       "  </tbody>\n",
       "</table>\n",
       "</div>"
      ],
      "text/plain": [
       "                       Name  Age     Sex\n",
       "0   Braund, Mr. Owen Harris   22    male\n",
       "1  Allen, Mr. William Henry   35    male\n",
       "2  Bonnell, Miss. Elizabeth   58  female"
      ]
     },
     "execution_count": 2,
     "metadata": {},
     "output_type": "execute_result"
    }
   ],
   "source": [
    "#Creando data frames \n",
    "import pandas as pd\n",
    "df = pd.DataFrame(\n",
    "    {\n",
    "        \"Name\": [\n",
    "            \"Braund, Mr. Owen Harris\",\n",
    "            \"Allen, Mr. William Henry\",\n",
    "            \"Bonnell, Miss. Elizabeth\",\n",
    "        ],\n",
    "        \"Age\": [22, 35, 58],\n",
    "        \"Sex\": [\"male\", \"male\", \"female\"],\n",
    "    }\n",
    ")\n",
    "\n",
    "\n",
    "df"
   ]
  },
  {
   "cell_type": "code",
   "execution_count": 13,
   "metadata": {},
   "outputs": [
    {
     "data": {
      "text/plain": [
       "0    22\n",
       "1    35\n",
       "2    58\n",
       "Name: Age, dtype: int64"
      ]
     },
     "execution_count": 13,
     "metadata": {},
     "output_type": "execute_result"
    }
   ],
   "source": [
    "df[\"Age\"]\n",
    "\n"
   ]
  },
  {
   "cell_type": "code",
   "execution_count": 3,
   "metadata": {},
   "outputs": [
    {
     "name": "stdout",
     "output_type": "stream",
     "text": [
      "0    22\n",
      "1    35\n",
      "2    58\n",
      "Name: Age, dtype: int64\n",
      "0    si\n",
      "1    no\n",
      "2    no\n",
      "Name: Cliente, dtype: object\n",
      "0    15\n",
      "1    18\n",
      "2    22\n",
      "3    23\n",
      "4    24\n",
      "5    25\n",
      "6    50\n",
      "Name: Paginas, dtype: int64\n"
     ]
    },
    {
     "data": {
      "text/plain": [
       "count     7.000000\n",
       "mean     25.285714\n",
       "std      11.455920\n",
       "min      15.000000\n",
       "25%      20.000000\n",
       "50%      23.000000\n",
       "75%      24.500000\n",
       "max      50.000000\n",
       "Name: Paginas, dtype: float64"
      ]
     },
     "execution_count": 3,
     "metadata": {},
     "output_type": "execute_result"
    }
   ],
   "source": [
    "#Creando series desde 0\n",
    "ages = pd.Series([22, 35, 58], name=\"Age\")\n",
    "print(ages)\n",
    "cliente = pd.Series([\"si\", \"no\" , \"no\"], name=\"Cliente\")\n",
    "print(cliente)\n",
    "paginas = pd.Series([15,18,22,23,24,25,50], name=\"Paginas\")\n",
    "print(paginas)\n",
    "\n",
    "df[\"Age\"].max() #Sacando la maxima edad del dataframe\n",
    "ages.max() #Sacando la edad maxima de la serie\n",
    "\n",
    "#el metodo describe() nos da una rapida vista a los datos numericos del data frame \n",
    "df.describe()\n",
    "\n",
    "paginas.max()\n",
    "paginas.describe()"
   ]
  },
  {
   "cell_type": "code",
   "execution_count": 3,
   "metadata": {},
   "outputs": [
    {
     "name": "stdout",
     "output_type": "stream",
     "text": [
      "Requirement already satisfied: pip in c:\\users\\jorge.marquez\\desktop\\test\\venv\\lib\\site-packages (23.0.1)\n",
      "Collecting pip\n",
      "  Downloading pip-23.1-py3-none-any.whl (2.1 MB)\n",
      "     ---------------------------------------- 0.0/2.1 MB ? eta -:--:--\n",
      "      --------------------------------------- 0.0/2.1 MB 1.3 MB/s eta 0:00:02\n",
      "     - -------------------------------------- 0.1/2.1 MB 1.1 MB/s eta 0:00:02\n",
      "     --- ------------------------------------ 0.2/2.1 MB 1.7 MB/s eta 0:00:02\n",
      "     ----- ---------------------------------- 0.3/2.1 MB 1.5 MB/s eta 0:00:02\n",
      "     -------- ------------------------------- 0.5/2.1 MB 2.1 MB/s eta 0:00:01\n",
      "     ------------- -------------------------- 0.7/2.1 MB 2.6 MB/s eta 0:00:01\n",
      "     ------------------ --------------------- 1.0/2.1 MB 3.0 MB/s eta 0:00:01\n",
      "     ----------------------- ---------------- 1.2/2.1 MB 3.4 MB/s eta 0:00:01\n",
      "     ------------------------------- -------- 1.6/2.1 MB 3.9 MB/s eta 0:00:01\n",
      "     ----------------------------------- ---- 1.8/2.1 MB 4.0 MB/s eta 0:00:01\n",
      "     -------------------------------------- - 2.0/2.1 MB 4.1 MB/s eta 0:00:01\n",
      "     ---------------------------------------- 2.1/2.1 MB 3.9 MB/s eta 0:00:00\n",
      "Installing collected packages: pip\n",
      "  Attempting uninstall: pip\n",
      "    Found existing installation: pip 23.0.1\n",
      "    Uninstalling pip-23.0.1:\n",
      "      Successfully uninstalled pip-23.0.1\n",
      "Successfully installed pip-23.1\n"
     ]
    }
   ],
   "source": [
    "#Instalando Openpyxl\n",
    "#! pip install openpyxl \n",
    "#Para actualizar Openpyxl\n",
    "#! python.exe -m pip install --upgrade pip\n",
    "#Para instalar la libreria matplotlib \n",
    "#! pip3 install matplotlib\n"
   ]
  },
  {
   "attachments": {},
   "cell_type": "markdown",
   "metadata": {},
   "source": [
    "Para el error ERROR: Can not perform a '--user' install. User site-packages are not visible in this virtualenv.\n",
    "Abrir el folder venv.\n",
    "Click en el archivo pyvenv.cfg file.\n",
    "Establecer la propiedad de  include-system-site-packages a true.\n",
    "Guardar el archivo.\n",
    "Regresar al comando pip install donde se presento el error.\n"
   ]
  },
  {
   "cell_type": "code",
   "execution_count": 14,
   "metadata": {},
   "outputs": [
    {
     "name": "stdout",
     "output_type": "stream",
     "text": [
      "<bound method DataFrame.info of      PassengerId  Survived  Pclass   \n",
      "0              1         0       3  \\\n",
      "1              2         1       1   \n",
      "2              3         1       3   \n",
      "3              4         1       1   \n",
      "4              5         0       3   \n",
      "..           ...       ...     ...   \n",
      "886          887         0       2   \n",
      "887          888         1       1   \n",
      "888          889         0       3   \n",
      "889          890         1       1   \n",
      "890          891         0       3   \n",
      "\n",
      "                                                  Name     Sex   Age  SibSp   \n",
      "0                              Braund, Mr. Owen Harris    male  22.0      1  \\\n",
      "1    Cumings, Mrs. John Bradley (Florence Briggs Th...  female  38.0      1   \n",
      "2                               Heikkinen, Miss. Laina  female  26.0      0   \n",
      "3         Futrelle, Mrs. Jacques Heath (Lily May Peel)  female  35.0      1   \n",
      "4                             Allen, Mr. William Henry    male  35.0      0   \n",
      "..                                                 ...     ...   ...    ...   \n",
      "886                              Montvila, Rev. Juozas    male  27.0      0   \n",
      "887                       Graham, Miss. Margaret Edith  female  19.0      0   \n",
      "888           Johnston, Miss. Catherine Helen \"Carrie\"  female   NaN      1   \n",
      "889                              Behr, Mr. Karl Howell    male  26.0      0   \n",
      "890                                Dooley, Mr. Patrick    male  32.0      0   \n",
      "\n",
      "     Parch            Ticket     Fare Cabin Embarked  \n",
      "0        0         A/5 21171   7.2500   NaN        S  \n",
      "1        0          PC 17599  71.2833   C85        C  \n",
      "2        0  STON/O2. 3101282   7.9250   NaN        S  \n",
      "3        0            113803  53.1000  C123        S  \n",
      "4        0            373450   8.0500   NaN        S  \n",
      "..     ...               ...      ...   ...      ...  \n",
      "886      0            211536  13.0000   NaN        S  \n",
      "887      0            112053  30.0000   B42        S  \n",
      "888      2        W./C. 6607  23.4500   NaN        S  \n",
      "889      0            111369  30.0000  C148        C  \n",
      "890      0            370376   7.7500   NaN        Q  \n",
      "\n",
      "[891 rows x 12 columns]>\n"
     ]
    }
   ],
   "source": [
    "import pandas as pd\n",
    "\n",
    "import openpyxl\n",
    "\n",
    "#Cargar archivos csv\n",
    "titanic = pd.read_csv(\"titanic.csv\")\n",
    "print(titanic)\n",
    "#print (titanic)\n",
    "print (titanic.head(8)) #Muestra las primeras 8 filas\n",
    "print (titanic.dtypes) #Muestra como panda interpreta los tipos de cada columna\n",
    "\n",
    "#Crea un archivo de excel con el data frame\n",
    "titanic.to_excel(\"titanic.xlsx\", sheet_name=\"passengers\", index=False)\n",
    "\n"
   ]
  },
  {
   "cell_type": "code",
   "execution_count": null,
   "metadata": {},
   "outputs": [],
   "source": [
    "import openpyxl\n",
    "titanic = pd.read_excel(\"titanic.xlsx\", sheet_name=\"passengers\")\n",
    "print(titanic.head())\n",
    "print(titanic.info())\n",
    "print(titanic.tail())\n"
   ]
  },
  {
   "cell_type": "code",
   "execution_count": null,
   "metadata": {},
   "outputs": [],
   "source": [
    "#Seleccionando una sub serie del data frame\n",
    "import pandas as pd\n",
    "import openpyxl\n",
    "\n",
    "titanic = pd.read_csv(\"titanic.csv\")\n",
    "#print(titanic.head())\n",
    "\n",
    "ages = titanic[\"Age\"]\n",
    "print(ages.head())\n",
    "\n",
    "type(titanic[\"Age\"])\n",
    "titanic[\"Age\"].shape\n",
    "\n",
    "#Seleccionando multiples columnas\n",
    "age_sex = titanic[[\"Age\", \"Sex\"]]\n",
    "print(age_sex.head())\n",
    "type(titanic[[\"Age\", \"Sex\"]])\n",
    "titanic[[\"Name\", \"Age\", \"Sex\"]].shape\n",
    "\n",
    "#Filtrar filas especificas del dataframe\n",
    "above_35 = titanic[titanic[\"Age\"] > 35] #Valida y selecciona las filas que tengan el valor mayor a 35 en la columna Age\n",
    "above_35.head()\n",
    "\n",
    "titanic[\"Age\"] > 35 #La condición valida cual fila en la columna Age es mayor a 35\n",
    "\n",
    "above_35.shape\n",
    "\n",
    "#Validar si un valor se encuentra en una columna\n",
    "class_23 = titanic[titanic[\"Pclass\"].isin([2, 3])]\n",
    "print(class_23.head())\n",
    "\n",
    "#Se pueden combinar multiples declaraciones condicionales, cada condición debe de estar entre parentesis \n",
    "#No se pueden usar las condiciones or/and, pero si los operadores or = | y and = & \n",
    "class_23 = titanic[(titanic[\"Pclass\"] == 2) | (titanic[\"Pclass\"] == 3)]\n",
    "print(class_23.head())\n",
    "\n",
    "#La función condicional notna() regresa un true por cada fila que su valor no es nulo\n",
    "#Asi seleccionamos las filas de las cuales conocemos la edad de los pasajeros\n",
    "age_no_na = titanic[titanic[\"Age\"].notna()]\n",
    "age_no_na.head()\n",
    "age_no_na.shape\n",
    "\n",
    "#Como seleccionar especificas filas y columnas del dataframe\n",
    "#Seleccionando pasajeros mayores de 35 años\n",
    "adult_names = titanic.loc[titanic[\"Age\"] > 35, \"Name\"] #Se utiliza loc cuando se seleciona por la etiqueta\n",
    "print(\"validando prueba\")\n",
    "#prueba = titanic[[\"Age\", \"Sex\"]]\n",
    "#print(prueba)\n",
    "print(adult_names.head())\n",
    "\n",
    "#Seleccionando filas de 10 al 25 y columnas 3 al 5\n",
    "titanic.iloc[9:25, 2:5] #Se utiliza iloc cuando se selecciona por posiciones\n",
    "\n",
    "#Cambiando el valor name a los datos seleccionados\n",
    "#Asignando el valor anonymus a los primeros tres elementos de la tercera columna\n",
    "titanic.iloc[0:3, 3] = \"anonymous\"\n",
    "print(\"nombres anonimos\")\n",
    "print(titanic.head())\n",
    "\n",
    "titanic.to_excel(\"titanic.xlsx\", sheet_name=\"passengers\", index=False)\n",
    "\n"
   ]
  },
  {
   "cell_type": "code",
   "execution_count": null,
   "metadata": {},
   "outputs": [],
   "source": [
    "#Ejemplos de uso de loc\n",
    "import pandas as pd\n",
    "import openpyxl\n",
    "technologies = {\n",
    "    'Courses':[\"Spark\",\"PySpark\",\"Hadoop\",\"Python\",\"pandas\"],\n",
    "    'Fee' :[20000,25000,26000,22000,24000],\n",
    "    'Duration':['30day','40days','35days','40days','60days'],\n",
    "    'Discount':[1000,2300,1200,2500,2000]\n",
    "              }\n",
    "index_labels=['r1','r2','r3','r4','r5']\n",
    "df = pd.DataFrame(technologies,index=index_labels)\n",
    "#print(df)\n",
    "\n",
    "# Select single Row\n",
    "print(df.loc['r2'])\n",
    "\n",
    "# Select Single Column by label\n",
    "print(\"Select Single Column by label Courses \\n\", df.loc[:, \"Courses\"])\n",
    "\n",
    "# Select Multiple Rows by Label\n",
    "print(df.loc[['r2','r3']])\n",
    "\n",
    "# Select Multiple Columns by labels\n",
    "print(df.loc[:, [\"Courses\",\"Fee\",\"Discount\"]])\n",
    "\n",
    "# Select Rows Between two Index Labels\n",
    "# Includes both r1 and r4 rows\n",
    "print(df.loc['r1':'r4'])\n",
    "\n",
    "# Select Columns between two Labels\n",
    "# Includes both 'Fee' and 'Discount' columns\n",
    "print(df.loc[:,'Fee':'Discount'])\n",
    "\n",
    "# Select Alternate rows By indeces\n",
    "print(df.loc['r1':'r4':2])\n",
    "\n",
    "# Select Alternate Columns between two Labels\n",
    "print(df.loc[:,'Fee':'Discount':2])\n",
    "\n",
    "# Using Conditions\n",
    "print(df.loc[df['Fee'] >= 24000])\n",
    "df.to_excel(\"technologies.xlsx\", index=False)\n"
   ]
  },
  {
   "cell_type": "code",
   "execution_count": null,
   "metadata": {},
   "outputs": [],
   "source": [
    "#Creando graficas\n",
    "import pandas as pd\n",
    "#! pip install matplotlib\n",
    "import matplotlib.pyplot as plt\n",
    "air_quality = pd.read_csv(\"air_quality_no2.csv\", index_col=0, parse_dates=True)\n",
    "air_quality.head()\n",
    "air_quality.plot()\n",
    "air_quality[\"station_paris\"].plot()\n",
    "plt.show()\n",
    "air_quality.plot.scatter(x=\"station_london\", y=\"station_paris\", alpha=0.5)\n",
    "plt.show()\n",
    "#Para mostrar los tipos de grafica\n",
    "[\n",
    "    method_name\n",
    "    for method_name in dir(air_quality.plot)\n",
    "    if not method_name.startswith(\"_\")\n",
    "]\n",
    "\n",
    "air_quality.plot.box()\n",
    "plt.show()\n",
    "\n",
    "axs = air_quality.plot.area(figsize=(12, 4), subplots=True)\n",
    "plt.show()\n",
    "\n",
    "fig, axs = plt.subplots(figsize=(12, 4))\n",
    "air_quality.plot.area(ax=axs)\n",
    "\n",
    "axs.set_ylabel(\"NO$_2$ concentration\")\n",
    "\n",
    "fig.savefig(\"no2_concentrations.png\")\n",
    "\n",
    "\n"
   ]
  },
  {
   "attachments": {},
   "cell_type": "markdown",
   "metadata": {},
   "source": [
    "Para importar la libreria 'matplotlib' es necesario instalar la libreria\n",
    " ! pip install matplotlib\n",
    "\n",
    "fig, axs = plt.subplots(figsize=(12, 4))        # Create an empty Matplotlib Figure and Axes\n",
    "air_quality.plot.area(ax=axs)                   # Use pandas to put the area plot on the prepared Figure/Axes\n",
    "axs.set_ylabel(\"NO$_2$ concentration\")          # Do any Matplotlib customization you like\n",
    "fig.savefig(\"no2_concentrations.png\")           # Save the Figure/Axes using the existing Matplotlib method.\n",
    "plt.show()                                      # Display the plot"
   ]
  }
 ],
 "metadata": {
  "kernelspec": {
   "display_name": "Python 3 (ipykernel)",
   "language": "python",
   "name": "python3"
  },
  "language_info": {
   "codemirror_mode": {
    "name": "ipython",
    "version": 3
   },
   "file_extension": ".py",
   "mimetype": "text/x-python",
   "name": "python",
   "nbconvert_exporter": "python",
   "pygments_lexer": "ipython3",
   "version": "3.11.3"
  }
 },
 "nbformat": 4,
 "nbformat_minor": 2
}
