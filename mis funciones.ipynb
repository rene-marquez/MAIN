{
 "cells": [
  {
   "cell_type": "code",
   "execution_count": 42,
   "metadata": {},
   "outputs": [
    {
     "name": "stdout",
     "output_type": "stream",
     "text": [
      "no\n"
     ]
    }
   ],
   "source": [
    "from datetime import datetime\n",
    "f = open(r\"C:\\Users\\jorge.marquez\\Documents\\Emerald\\SBara\\Performance\\bara-performance-analitycs\\prueba.txt\")\n",
    "formato=\"%Y-%m-%d %H:%M:%S\"\n",
    "resp=True\n",
    "primeralinea = f.readline()\n",
    "primeralinea = f.readline()\n",
    "x=primeralinea.strip()\n",
    "#print(\"si\") if resp == bool(datetime.strptime(x, formato)) else print(\"no\")\n",
    "try:\n",
    "    print(\"si\") if resp == bool(datetime.strptime(x, formato)) else print(\"no\")\n",
    "except ValueError:\n",
    "    resp = False\n",
    "if resp==False:\n",
    " print(\"no\")\n"
   ]
  },
  {
   "cell_type": "code",
   "execution_count": null,
   "metadata": {},
   "outputs": [],
   "source": [
    "print(\"si\") if resp == bool(datetime.strptime(x, formato)) else print(\"no\")\n",
    "#Validar si un valor es fecha\n",
    "\"\"\"\n",
    "def valfecha(x):\n",
    "  print (x)\n",
    "datetime.strptime(x, formato)\n",
    "valfecha(x=primeralinea)\n",
    "\n",
    "print(\"si\") if resp == bool(datetime.strptime(x, formato)) else print(\"no\")\n",
    "try:\n",
    "    print(\"si\") if resp == bool(datetime.strptime(y, formato)) else print(\"no\")\n",
    "except ValueError:\n",
    "    resp = False\n",
    "print(\"si\") if resp else print(\"no\")\n",
    "#print(\"si\") if bool(datetime.strptime(z, formato)) else print(\"no\")\n",
    "\"\"\""
   ]
  }
 ],
 "metadata": {
  "kernelspec": {
   "display_name": "venv",
   "language": "python",
   "name": "python3"
  },
  "language_info": {
   "codemirror_mode": {
    "name": "ipython",
    "version": 3
   },
   "file_extension": ".py",
   "mimetype": "text/x-python",
   "name": "python",
   "nbconvert_exporter": "python",
   "pygments_lexer": "ipython3",
   "version": "3.11.3"
  },
  "orig_nbformat": 4
 },
 "nbformat": 4,
 "nbformat_minor": 2
}
